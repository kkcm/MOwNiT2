{
 "cells": [
  {
   "cell_type": "markdown",
   "metadata": {},
   "source": [
    "# Laboratorium 3 - MOwNiT2"
   ]
  },
  {
   "cell_type": "markdown",
   "metadata": {},
   "source": [
    "## Układy równań liniowych"
   ]
  },
  {
   "cell_type": "code",
   "execution_count": 2,
   "metadata": {},
   "outputs": [],
   "source": [
    "from typing import Optional, Tuple\n",
    "import numpy as np"
   ]
  },
  {
   "cell_type": "markdown",
   "metadata": {},
   "source": [
    "### Zadanie rozgrzewkowe\n",
    "Napisać mnożenie macierzy w ulubionym_\\**_ języku programowania."
   ]
  },
  {
   "cell_type": "code",
   "execution_count": 4,
   "metadata": {},
   "outputs": [],
   "source": [
    "def agh_superfast_matrix_multiply(a: np.matrix, b: np.matrix) -> np.matrix:\n",
    "    \"\"\"Perform totally ordinary multiplication of matrices.\n",
    "    \n",
    "    :param a: matrix with dimensions n by m\n",
    "    :param b: matrix with dimensions m by p\n",
    "    :return:  matrix with dimensions n by p\n",
    "    \"\"\"\n",
    "    n = a.shape[0]\n",
    "    m = a.shape[1]\n",
    "    p = b.shape[1]\n",
    "    c = np.zeros((n,p))\n",
    "    \n",
    "    for i in range(0,n):\n",
    "        for j in range (0,p):\n",
    "            for k in range(0,m):\n",
    "                c[i,j] += a[i,k] * b[k,j]\n",
    "    return c\n",
    "    pass\n",
    "\n",
    "m1 = np.matrix([[1, 2],\n",
    "                [3, 4],\n",
    "                [4, 5],\n",
    "                [5, 1]])\n",
    "\n",
    "m2 = np.matrix([[1, 2, 3],\n",
    "                [4, 5, 6]])\n",
    "\n",
    "res = agh_superfast_matrix_multiply(m1, m2)\n",
    "assert np.allclose(res, m1 * m2), \"Wrong multiplication result\""
   ]
  },
  {
   "cell_type": "markdown",
   "metadata": {},
   "source": [
    "### Zadanie 1\n",
    "1. Napisać kod (w ulubionym_\\**_ języku) do eliminacji Gaussa z i bez pivotingu.\n",
    "2. Rozwiązać poniższy układ równań z pivotingiem i bez, porównać wyniki."
   ]
  },
  {
   "cell_type": "markdown",
   "metadata": {},
   "source": [
    "#### Gauss bez pivotingu"
   ]
  },
  {
   "cell_type": "code",
   "execution_count": 13,
   "metadata": {},
   "outputs": [],
   "source": [
    "def naive_gauss(a, b):\n",
    "    n = a.shape[0]\n",
    "    x = np.zeros(n)\n",
    "    \n",
    "    for k in range(0,n):\n",
    "        for i in range (k+1, n):\n",
    "            xmult = a[i,k] / a[k,k]\n",
    "            a[i,k] = xmult\n",
    "            for j in range(k+1, n):\n",
    "                a[i,j] -= xmult * a[k,j]\n",
    "            b[i] -= xmult * b[k]\n",
    "    \n",
    "    x[n-1] = b[n-1] / a[n-1,n-1]\n",
    "    for i in range(n-1,-1,-1):\n",
    "        sum = b[i]\n",
    "        for j in range(i+1,n):\n",
    "            sum -= a[i,j] * x[j]\n",
    "        x[i] = sum / a[i,i]\n",
    "        \n",
    "    return np.matrix(x).transpose()\n",
    "    pass"
   ]
  },
  {
   "cell_type": "code",
   "execution_count": 16,
   "metadata": {},
   "outputs": [
    {
     "data": {
      "text/plain": [
       "True"
      ]
     },
     "execution_count": 16,
     "metadata": {},
     "output_type": "execute_result"
    }
   ],
   "source": [
    "A = np.matrix([[0.0001, -5.0300, 5.8090, 7.8320],\n",
    "               [2.2660, 1.9950,  1.2120, 8.0080],\n",
    "               [8.8500, 5.6810,  4.5520, 1.3020],\n",
    "               [6.7750, -2.253,  2.9080, 3.9700]])\n",
    "b = np.matrix([9.5740, 7.2190, 5.7300, 6.2910]).transpose()\n",
    "\n",
    "x = np.linalg.solve(A, b)\n",
    "x_ng = naive_gauss(A, b)\n",
    "\n",
    "np.allclose(x_ng, x)"
   ]
  },
  {
   "cell_type": "markdown",
   "metadata": {},
   "source": [
    "#### Gauss z pivotingiem"
   ]
  },
  {
   "cell_type": "code",
   "execution_count": 36,
   "metadata": {},
   "outputs": [],
   "source": [
    "def pivot_gauss(a, b):\n",
    "    n = a.shape[0]\n",
    "    x = np.zeros(n)\n",
    "    s = np.zeros(n)               #tablica z największymi wartościami w danym rzędzie\n",
    "    r = np.zeros(n, dtype=np.int) #wektor wskazujący rzędy\n",
    "    \n",
    "    #znalezienie maksymalnego elementu w każdym rzędzie\n",
    "    for i in range(0,n):\n",
    "        r[i] = i;\n",
    "        smax = 0;\n",
    "        for j in range(0,n):\n",
    "            smax = max(smax, abs(a[i,j]))\n",
    "        s[i] = smax\n",
    "    \n",
    "    #ustawienie rzędów w kolejności od największego do najmniejszego\n",
    "    for k in range(0,n-1):\n",
    "        rmax = 0\n",
    "        for i in range(k,n):\n",
    "            p = abs(a[r[i],k] / s[r[i]])\n",
    "            if p > rmax:\n",
    "                rmax = p\n",
    "                j = i\n",
    "        tmp = r[j]\n",
    "        r[j] = r[k]\n",
    "        r[k] = tmp\n",
    "    \n",
    "    #zwykły gauss tylko z wykorzystaniem wektora na odpowiednie rzędy\n",
    "    for k in range(0,n-1):   \n",
    "        for i in range(k+1,n):\n",
    "            xmult = a[r[i],k] / a[r[k],k]\n",
    "            a[r[i],k] = xmult\n",
    "            for j in range(k+1,n):\n",
    "                a[r[i],j] -= xmult * a[r[k],j]\n",
    "            b[r[i]] -= a[r[i],k] * b[r[k]]\n",
    "                \n",
    "    x[r[n-1]] = b[r[n-1]] / a[r[n-1],n-1]\n",
    "    for i in range(n-1,-1,-1):\n",
    "        sum = b[r[i]]\n",
    "        for j in range(i+1,n):\n",
    "            sum -= a[r[i],j] * x[j]\n",
    "        x[i] = sum / a[r[i],i]    \n",
    "    \n",
    "    return np.matrix(x).transpose()\n",
    "    pass"
   ]
  },
  {
   "cell_type": "code",
   "execution_count": 37,
   "metadata": {},
   "outputs": [
    {
     "data": {
      "text/plain": [
       "True"
      ]
     },
     "execution_count": 37,
     "metadata": {},
     "output_type": "execute_result"
    }
   ],
   "source": [
    "A = np.matrix([[0.0001, -5.0300, 5.8090, 7.8320],\n",
    "               [2.2660, 1.9950,  1.2120, 8.0080],\n",
    "               [8.8500, 5.6810,  4.5520, 1.3020],\n",
    "               [6.7750, -2.253,  2.9080, 3.9700]])\n",
    "b = np.matrix([9.5740, 7.2190, 5.7300, 6.2910]).transpose()\n",
    "\n",
    "x = np.linalg.solve(A, b)\n",
    "x_pg = pivot_gauss(A, b)\n",
    "\n",
    "np.allclose(x_pg, x)"
   ]
  },
  {
   "cell_type": "markdown",
   "metadata": {},
   "source": [
    "#### Porównanie czasów"
   ]
  },
  {
   "cell_type": "code",
   "execution_count": 39,
   "metadata": {},
   "outputs": [
    {
     "name": "stdout",
     "output_type": "stream",
     "text": [
      "13 µs ± 60.9 ns per loop (mean ± std. dev. of 7 runs, 100000 loops each)\n",
      "323 µs ± 6.33 µs per loop (mean ± std. dev. of 7 runs, 1000 loops each)\n",
      "404 µs ± 5.49 µs per loop (mean ± std. dev. of 7 runs, 1000 loops each)\n"
     ]
    }
   ],
   "source": [
    "%timeit np.linalg.solve(A,b)\n",
    "%timeit naive_gauss(A,b)\n",
    "%timeit pivot_gauss(A,b)"
   ]
  },
  {
   "cell_type": "markdown",
   "metadata": {},
   "source": [
    "### Zadanie 2\n",
    "1. Zaimplementować algorytm faktoryzacji LU macierzy.\n",
    "2. Zaimplementować funkcję sprawdzającą, czy dana macierz jest symetryczna i dodatnio określona.\n",
    "3. Zaimplementować algorytm faktoryzacji Cholesky'ego macierzy."
   ]
  },
  {
   "cell_type": "code",
   "execution_count": 68,
   "metadata": {},
   "outputs": [],
   "source": [
    "def agh_superfast_lu(a: np.matrix) -> Optional[Tuple[np.matrix, np.matrix]]:\n",
    "    n = a.shape[0]\n",
    "    l = np.zeros((n,n))\n",
    "    u = np.zeros((n,n))\n",
    "    \n",
    "    for i in range(0,n):\n",
    "        l[i,i] = 1\n",
    "        for j in range(i,n):\n",
    "            sum = 0\n",
    "            for k in range(0,i):\n",
    "                sum += l[i,k] * u[k,j]\n",
    "            u[i,j] = a[i,j] - sum\n",
    "        for j in range(i+1,n):\n",
    "            sum = 0\n",
    "            for k in range(0,i):\n",
    "                sum += l[j,k] * u[k,i]\n",
    "            l[j,i] = (a[j,i] - sum) / u[i,i]\n",
    "    return (l, u)\n",
    "    pass\n",
    "\n",
    "def agh_superfast_check_spd(a: np.matrix) -> bool:\n",
    "    l = agh_superfast_cholesky(a)\n",
    "    llt = agh_superfast_matrix_multiply(l,l.transpose())\n",
    "    return np.allclose(a, llt)\n",
    "    pass\n",
    "\n",
    "def agh_superfast_cholesky(a: np.matrix) -> Optional[np.matrix]:\n",
    "    n = a.shape[0]\n",
    "    l = np.zeros((n,n))\n",
    "    \n",
    "    for i in range(0,n):\n",
    "        sum = 0\n",
    "        for k in range(0,i):\n",
    "            sum += l[i,k] * l[i,k]\n",
    "        l[i,i] = pow(a[i,i] - sum , 1/2)\n",
    "        for j in range(i+1, n):\n",
    "            sum = 0\n",
    "            for k in range(0,i):\n",
    "                sum += l[j,k] * l[i,k]\n",
    "            l[j,i] = (a[j,i] - sum) / l[i,i]\n",
    "    return l\n",
    "    pass"
   ]
  },
  {
   "cell_type": "code",
   "execution_count": null,
   "metadata": {},
   "outputs": [],
   "source": [
    "Sprawdzenie działania "
   ]
  },
  {
   "cell_type": "code",
   "execution_count": 84,
   "metadata": {
    "scrolled": true
   },
   "outputs": [
    {
     "name": "stdout",
     "output_type": "stream",
     "text": [
      "[[ 1.          0.          0.        ]\n",
      " [-0.5         1.          0.        ]\n",
      " [ 0.         -0.66666667  1.        ]]  = L\n",
      "[[ 2.         -1.          0.        ]\n",
      " [ 0.          1.5        -1.        ]\n",
      " [ 0.          0.          1.33333333]]  = U\n"
     ]
    }
   ],
   "source": [
    "A = np.matrix([[2, -1, 0],\n",
    "               [-1, 2, -1],\n",
    "               [0, -1, 2]])\n",
    "\n",
    "LU = agh_superfast_lu(A)\n",
    "print(LU[0], \" = L\")\n",
    "print(LU[1], \" = U\")"
   ]
  },
  {
   "cell_type": "code",
   "execution_count": 85,
   "metadata": {},
   "outputs": [
    {
     "data": {
      "text/plain": [
       "True"
      ]
     },
     "execution_count": 85,
     "metadata": {},
     "output_type": "execute_result"
    }
   ],
   "source": [
    "A = np.matrix([[2, -1, 0],\n",
    "               [-1, 2, -1],\n",
    "               [0, -1, 2]])\n",
    "\n",
    "agh_superfast_check_spd(A)"
   ]
  },
  {
   "cell_type": "code",
   "execution_count": 86,
   "metadata": {},
   "outputs": [
    {
     "name": "stdout",
     "output_type": "stream",
     "text": [
      "[[ 1.41421356  0.          0.        ]\n",
      " [-0.70710678  1.22474487  0.        ]\n",
      " [ 0.         -0.81649658  1.15470054]]  = L\n",
      "[[ 1.41421356 -0.70710678  0.        ]\n",
      " [ 0.          1.22474487 -0.81649658]\n",
      " [ 0.          0.          1.15470054]]  = L^T\n"
     ]
    }
   ],
   "source": [
    "A = np.matrix([[2, -1, 0],\n",
    "               [-1, 2, -1],\n",
    "               [0, -1, 2]])\n",
    "\n",
    "L = agh_superfast_cholesky(A)\n",
    "print(L, \" = L\")\n",
    "print(L.transpose(), \" = L^T\")"
   ]
  },
  {
   "cell_type": "code",
   "execution_count": null,
   "metadata": {},
   "outputs": [],
   "source": []
  }
 ],
 "metadata": {
  "kernelspec": {
   "display_name": "Python 3",
   "language": "python",
   "name": "python3"
  },
  "language_info": {
   "codemirror_mode": {
    "name": "ipython",
    "version": 3
   },
   "file_extension": ".py",
   "mimetype": "text/x-python",
   "name": "python",
   "nbconvert_exporter": "python",
   "pygments_lexer": "ipython3",
   "version": "3.7.0"
  }
 },
 "nbformat": 4,
 "nbformat_minor": 2
}
