{
 "cells": [
  {
   "cell_type": "markdown",
   "metadata": {},
   "source": [
    "# Laboratorium 7 - MOwNiT2"
   ]
  },
  {
   "cell_type": "code",
   "execution_count": 264,
   "metadata": {},
   "outputs": [],
   "source": [
    "import numpy as np"
   ]
  },
  {
   "cell_type": "markdown",
   "metadata": {},
   "source": [
    "## Iteracyjne metody rozwiązywania równań liniowych\n"
   ]
  },
  {
   "cell_type": "code",
   "execution_count": 265,
   "metadata": {},
   "outputs": [],
   "source": [
    "A1 = np.matrix([[2, 1], [6, 8]])\n",
    "b1 = np.matrix([12, 14]).transpose()"
   ]
  },
  {
   "cell_type": "code",
   "execution_count": 266,
   "metadata": {},
   "outputs": [],
   "source": [
    "A2 = np.array([[11.0, -2.0, 3.0, 0.0],\n",
    "              [-2.0, 12.0, -2.0, 4.0],\n",
    "              [3.0, -2.0, 11.0, -2.0],\n",
    "              [0.0, 4.0, -2.0, 9.0]])\n",
    "b2 = np.array([7.0, 26.0, -12.0, 16.0]).transpose()"
   ]
  },
  {
   "cell_type": "markdown",
   "metadata": {},
   "source": [
    "### Zadanie 1.\n",
    "Zaimplementować metodę Jacobiego i przetestować jej działanie na paru układach równań. Porównać z metodą eliminacji Gaussa użytą do tych samych równań."
   ]
  },
  {
   "cell_type": "code",
   "execution_count": 267,
   "metadata": {},
   "outputs": [],
   "source": [
    "def jacobi_solve(A: np.matrix, b: np.matrix, iterations: int=1000) -> np.matrix:\n",
    "    n = A.shape[0]\n",
    "    x = np.zeros(n)\n",
    "    k = 0\n",
    "    while k < iterations:\n",
    "        x1 = np.zeros(n)\n",
    "        for i in range(n):\n",
    "            sum = 0\n",
    "            for j in range(n):\n",
    "                if j != i:\n",
    "                    sum +=A[i,j] * x[j]\n",
    "            x1[i] = (1 / A[i,i]) * (b[i] - sum)\n",
    "        x = x1\n",
    "        k += 1\n",
    "    return x\n",
    "    pass"
   ]
  },
  {
   "cell_type": "code",
   "execution_count": 268,
   "metadata": {},
   "outputs": [
    {
     "data": {
      "text/plain": [
       "True"
      ]
     },
     "execution_count": 268,
     "metadata": {},
     "output_type": "execute_result"
    }
   ],
   "source": [
    "np.allclose(jacobi_solve(A1,b1), np.linalg.solve(A1,b1).transpose())"
   ]
  },
  {
   "cell_type": "code",
   "execution_count": 269,
   "metadata": {},
   "outputs": [
    {
     "name": "stdout",
     "output_type": "stream",
     "text": [
      "17.4 µs ± 1.04 µs per loop (mean ± std. dev. of 7 runs, 100000 loops each)\n",
      "63.8 ms ± 8.39 ms per loop (mean ± std. dev. of 7 runs, 10 loops each)\n"
     ]
    }
   ],
   "source": [
    "%timeit np.linalg.solve(A1,b1).transpose()\n",
    "%timeit jacobi_solve(A1,b1)"
   ]
  },
  {
   "cell_type": "code",
   "execution_count": 270,
   "metadata": {},
   "outputs": [
    {
     "data": {
      "text/plain": [
       "True"
      ]
     },
     "execution_count": 270,
     "metadata": {},
     "output_type": "execute_result"
    }
   ],
   "source": [
    "np.allclose(jacobi_solve(A2,b2), np.linalg.solve(A2,b2).transpose())"
   ]
  },
  {
   "cell_type": "code",
   "execution_count": 271,
   "metadata": {},
   "outputs": [
    {
     "name": "stdout",
     "output_type": "stream",
     "text": [
      "20.6 µs ± 6.58 µs per loop (mean ± std. dev. of 7 runs, 100000 loops each)\n",
      "24.5 ms ± 2.09 ms per loop (mean ± std. dev. of 7 runs, 10 loops each)\n"
     ]
    }
   ],
   "source": [
    "%timeit np.linalg.solve(A2,b2).transpose()\n",
    "%timeit jacobi_solve(A2,b2)"
   ]
  },
  {
   "cell_type": "markdown",
   "metadata": {},
   "source": [
    "### Zadanie 2.\n",
    "Zaimplementować metodę Gaussa-Seidela i przetestować na tych samych układach równań, co metodę Jacobiego. "
   ]
  },
  {
   "cell_type": "code",
   "execution_count": 272,
   "metadata": {},
   "outputs": [],
   "source": [
    "def gauss_seidel_solve(A: np.matrix, b: np.matrix, iterations: int=1000) -> np.matrix:\n",
    "    n = A.shape[0]\n",
    "    x = np.zeros(n)\n",
    "    k = 0\n",
    "    while k < iterations:\n",
    "        x1 = np.zeros(n)\n",
    "        for i in range(n):\n",
    "            sumL = 0\n",
    "            sumU = 0\n",
    "            for j in range(0,i):\n",
    "                sumL +=A[i,j] * x1[j]\n",
    "            for j in range(i+1,n):\n",
    "                sumU +=A[i,j] * x[j]\n",
    "            x1[i] = (1 / A[i,i]) * (b[i] - sumL - sumU)\n",
    "        x = x1\n",
    "        k += 1\n",
    "    return x                \n",
    "    pass"
   ]
  },
  {
   "cell_type": "code",
   "execution_count": 273,
   "metadata": {},
   "outputs": [
    {
     "data": {
      "text/plain": [
       "True"
      ]
     },
     "execution_count": 273,
     "metadata": {},
     "output_type": "execute_result"
    }
   ],
   "source": [
    "np.allclose(gauss_seidel_solve(A1,b1), np.linalg.solve(A1,b1).transpose())"
   ]
  },
  {
   "cell_type": "code",
   "execution_count": 274,
   "metadata": {},
   "outputs": [
    {
     "name": "stdout",
     "output_type": "stream",
     "text": [
      "34.4 µs ± 14.3 µs per loop (mean ± std. dev. of 7 runs, 10000 loops each)\n",
      "The slowest run took 5.96 times longer than the fastest. This could mean that an intermediate result is being cached.\n",
      "196 ms ± 150 ms per loop (mean ± std. dev. of 7 runs, 1 loop each)\n"
     ]
    }
   ],
   "source": [
    "%timeit np.linalg.solve(A1,b1).transpose()\n",
    "%timeit gauss_seidel_solve(A1,b1)"
   ]
  },
  {
   "cell_type": "code",
   "execution_count": 275,
   "metadata": {},
   "outputs": [
    {
     "data": {
      "text/plain": [
       "True"
      ]
     },
     "execution_count": 275,
     "metadata": {},
     "output_type": "execute_result"
    }
   ],
   "source": [
    "np.allclose(gauss_seidel_solve(A2,b2), np.linalg.solve(A2,b2).transpose())"
   ]
  },
  {
   "cell_type": "code",
   "execution_count": 276,
   "metadata": {},
   "outputs": [
    {
     "name": "stdout",
     "output_type": "stream",
     "text": [
      "13.9 µs ± 1.64 µs per loop (mean ± std. dev. of 7 runs, 100000 loops each)\n",
      "16.4 ms ± 785 µs per loop (mean ± std. dev. of 7 runs, 100 loops each)\n"
     ]
    }
   ],
   "source": [
    "%timeit np.linalg.solve(A2,b2).transpose()\n",
    "%timeit gauss_seidel_solve(A2,b2)"
   ]
  },
  {
   "cell_type": "markdown",
   "metadata": {},
   "source": [
    "### Zadanie 3.\n",
    "Zaimplementować metodę SOR i przetestować na tych samych układach."
   ]
  },
  {
   "cell_type": "code",
   "execution_count": 277,
   "metadata": {},
   "outputs": [],
   "source": [
    "def sor_solve(A: np.matrix, b: np.matrix, iterations: int=1000) -> np.matrix:\n",
    "    n = A.shape[0]\n",
    "    x = np.zeros(n)\n",
    "    omega = 1.44\n",
    "    k = 0\n",
    "    while k < iterations:\n",
    "        x1 = np.zeros(n)\n",
    "        for i in range(n):\n",
    "            sumL = 0\n",
    "            sumU = 0\n",
    "            for j in range(0,i):\n",
    "                sumL +=A[i,j] * x1[j]\n",
    "            for j in range(i+1,n):\n",
    "                sumU +=A[i,j] * x[j]\n",
    "            x1[i] = (1 - omega) * x[i] + (omega / A[i,i]) * (b[i] - sumL - sumU)\n",
    "        x = x1\n",
    "        k += 1\n",
    "    return x  \n",
    "    pass"
   ]
  },
  {
   "cell_type": "code",
   "execution_count": 278,
   "metadata": {},
   "outputs": [
    {
     "data": {
      "text/plain": [
       "True"
      ]
     },
     "execution_count": 278,
     "metadata": {},
     "output_type": "execute_result"
    }
   ],
   "source": [
    "np.allclose(sor_solve(A1,b1), np.linalg.solve(A1,b1).transpose())"
   ]
  },
  {
   "cell_type": "code",
   "execution_count": 279,
   "metadata": {},
   "outputs": [
    {
     "name": "stdout",
     "output_type": "stream",
     "text": [
      "18.2 µs ± 2.2 µs per loop (mean ± std. dev. of 7 runs, 100000 loops each)\n",
      "120 ms ± 36.1 ms per loop (mean ± std. dev. of 7 runs, 10 loops each)\n"
     ]
    }
   ],
   "source": [
    "%timeit np.linalg.solve(A1,b1).transpose()\n",
    "%timeit sor_solve(A1,b1)"
   ]
  },
  {
   "cell_type": "code",
   "execution_count": 280,
   "metadata": {},
   "outputs": [
    {
     "data": {
      "text/plain": [
       "True"
      ]
     },
     "execution_count": 280,
     "metadata": {},
     "output_type": "execute_result"
    }
   ],
   "source": [
    "np.allclose(sor_solve(A2,b2), np.linalg.solve(A2,b2).transpose())"
   ]
  },
  {
   "cell_type": "code",
   "execution_count": 281,
   "metadata": {},
   "outputs": [
    {
     "name": "stdout",
     "output_type": "stream",
     "text": [
      "16 µs ± 1.9 µs per loop (mean ± std. dev. of 7 runs, 100000 loops each)\n",
      "16.9 ms ± 3.06 ms per loop (mean ± std. dev. of 7 runs, 100 loops each)\n"
     ]
    }
   ],
   "source": [
    "%timeit np.linalg.solve(A2,b2).transpose()\n",
    "%timeit sor_solve(A2,b2)"
   ]
  },
  {
   "cell_type": "markdown",
   "metadata": {},
   "source": [
    "### Zadanie 4.\n",
    "Dla powyższych metod porównać tempo zbiegania do rozwiązania."
   ]
  },
  {
   "cell_type": "code",
   "execution_count": 282,
   "metadata": {},
   "outputs": [],
   "source": [
    "def check_method(A: np.matrix, b: np.matrix, method, method_name):\n",
    "    np_solve = np.linalg.solve(A, b)\n",
    "    for i in range(1,100):\n",
    "        x = method(A, b, i)\n",
    "        if(np.allclose(np_solve.transpose(), x) == True):\n",
    "            print(method_name, \": accurate after\", i, \"iterations\")\n",
    "            break\n",
    "    pass"
   ]
  },
  {
   "cell_type": "code",
   "execution_count": 283,
   "metadata": {},
   "outputs": [
    {
     "name": "stdout",
     "output_type": "stream",
     "text": [
      "jacobi_solve : accurate after 24 iterations\n",
      "gauss_seidel_solve : accurate after 12 iterations\n",
      "sor_solve : accurate after 15 iterations\n"
     ]
    }
   ],
   "source": [
    "check_method(A1, b1, jacobi_solve, \"jacobi_solve\")\n",
    "check_method(A1, b1, gauss_seidel_solve, \"gauss_seidel_solve\")\n",
    "check_method(A1, b1, sor_solve, \"sor_solve\")"
   ]
  },
  {
   "cell_type": "code",
   "execution_count": 284,
   "metadata": {},
   "outputs": [
    {
     "name": "stdout",
     "output_type": "stream",
     "text": [
      "jacobi_solve : accurate after 25 iterations\n",
      "gauss_seidel_solve : accurate after 8 iterations\n",
      "sor_solve : accurate after 17 iterations\n"
     ]
    }
   ],
   "source": [
    "check_method(A2, b2, jacobi_solve, \"jacobi_solve\")\n",
    "check_method(A2, b2, gauss_seidel_solve, \"gauss_seidel_solve\")\n",
    "check_method(A2, b2, sor_solve, \"sor_solve\")"
   ]
  }
 ],
 "metadata": {
  "kernelspec": {
   "display_name": "Python 3",
   "language": "python",
   "name": "python3"
  },
  "language_info": {
   "codemirror_mode": {
    "name": "ipython",
    "version": 3
   },
   "file_extension": ".py",
   "mimetype": "text/x-python",
   "name": "python",
   "nbconvert_exporter": "python",
   "pygments_lexer": "ipython3",
   "version": "3.7.0"
  }
 },
 "nbformat": 4,
 "nbformat_minor": 2
}
